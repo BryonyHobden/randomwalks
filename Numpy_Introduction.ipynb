{
 "cells": [
  {
   "cell_type": "markdown",
   "metadata": {},
   "source": [
    "# Modules and namespaces\n",
    "\n",
    "We have just created a new piece of code, `factorials.py`, that contains two definitions of the factorial function (one recursive and one not). Each time we want to use these functions, we do not need to copy their definitions into our program. Instead, we can load them as an external **module**. \n",
    "\n",
    "The syntax to load a module is (make sure your Tut_factorials.py is in the same directory, or on the python search path):\n",
    "\n",
    "`Import <module name> as <name>`\n",
    "\n",
    "`<module name>` is the name of the file that contains your functions (without the .py extension). \n",
    "\n",
    "Here `<name>` is the **namespace** we have just defined for our module, e.g `FactLib` in the example below. To use components of in the namespace, you need to use the syntax\n",
    "\n",
    "`factorials.name_of_your_function(arguments)`"
   ]
  },
  {
   "cell_type": "code",
   "execution_count": 1,
   "metadata": {},
   "outputs": [
    {
     "ename": "ModuleNotFoundError",
     "evalue": "No module named 'factorials'",
     "output_type": "error",
     "traceback": [
      "\u001b[1;31m---------------------------------------------------------------------------\u001b[0m",
      "\u001b[1;31mModuleNotFoundError\u001b[0m                       Traceback (most recent call last)",
      "\u001b[1;32m<ipython-input-1-a88589ffaea7>\u001b[0m in \u001b[0;36m<module>\u001b[1;34m\u001b[0m\n\u001b[0;32m      1\u001b[0m \u001b[1;31m# Importing and using the factorials namespace\u001b[0m\u001b[1;33m\u001b[0m\u001b[1;33m\u001b[0m\u001b[1;33m\u001b[0m\u001b[0m\n\u001b[1;32m----> 2\u001b[1;33m \u001b[1;32mimport\u001b[0m \u001b[0mfactorials\u001b[0m \u001b[1;32mas\u001b[0m \u001b[0mFactLib\u001b[0m\u001b[1;33m\u001b[0m\u001b[1;33m\u001b[0m\u001b[0m\n\u001b[0m\u001b[0;32m      3\u001b[0m \u001b[1;33m\u001b[0m\u001b[0m\n\u001b[0;32m      4\u001b[0m \u001b[1;31m# Now we can use it!\u001b[0m\u001b[1;33m\u001b[0m\u001b[1;33m\u001b[0m\u001b[1;33m\u001b[0m\u001b[0m\n\u001b[0;32m      5\u001b[0m \u001b[0mresult\u001b[0m \u001b[1;33m=\u001b[0m \u001b[0mFactLib\u001b[0m\u001b[1;33m.\u001b[0m\u001b[0mfact\u001b[0m\u001b[1;33m(\u001b[0m\u001b[1;36m7\u001b[0m\u001b[1;33m)\u001b[0m\u001b[1;33m\u001b[0m\u001b[1;33m\u001b[0m\u001b[0m\n",
      "\u001b[1;31mModuleNotFoundError\u001b[0m: No module named 'factorials'"
     ]
    }
   ],
   "source": [
    "# Importing and using the factorials namespace\n",
    "import factorials as FactLib\n",
    "\n",
    "# Now we can use it!\n",
    "result = FactLib.fact(7)\n",
    "print(result)\n",
    "\n",
    "result2 = FactLib.fact_rec(7)\n",
    "print(result2)\n"
   ]
  },
  {
   "cell_type": "markdown",
   "metadata": {},
   "source": [
    "# Scientific computing libraries\n",
    "While our example of a module / library above is quite limited, **scientific libraries** of pre-written functions and other objects are a staple of programming.\n",
    "We have already encountered two scientific libraries:\n",
    "\n",
    "1. The `math` mathematics libary\n",
    "2. The `random` random numbers library"
   ]
  },
  {
   "cell_type": "code",
   "execution_count": 2,
   "metadata": {},
   "outputs": [
    {
     "name": "stdout",
     "output_type": "stream",
     "text": [
      "-1.0\n"
     ]
    }
   ],
   "source": [
    "# Python standard mathematical functions library\n",
    "import math as MT\n",
    "\n",
    "# Now MT is the namespace for the functions contained in math\n",
    "print(MT.cos(MT.pi))"
   ]
  },
  {
   "cell_type": "code",
   "execution_count": 3,
   "metadata": {},
   "outputs": [
    {
     "name": "stdout",
     "output_type": "stream",
     "text": [
      "0.4548932925970929\n"
     ]
    }
   ],
   "source": [
    "# Random numbers library\n",
    "import random as RD\n",
    "\n",
    "# contains (among others), a uniform random distribution\n",
    "print(RD.random())"
   ]
  },
  {
   "cell_type": "markdown",
   "metadata": {},
   "source": [
    "### Namespaces: Other options\n",
    "There are other ways of importing a library, and they all have subtly different meanings. For example:\n",
    "\n",
    "- `from math import *` imports **all** mathematics functions into the **current namespace**. Then you can directly use the functions `cos(pi)` and similar.\n",
    "- `from random import random` only imports the `uniform[0,1]` random number generator to the current namespace, you would use it as `random()` and similar. This is useful if we only want part of a a large library.\n"
   ]
  },
  {
   "cell_type": "markdown",
   "metadata": {},
   "source": [
    "# Numpy and matplotlib\n",
    "are the two most widely used python scientific computing libraries. They will allow you to work with arrays, and do complex mathematics, and finally, plot the results.\n",
    "\n",
    "*If you have used Matlab before*: The functions and objects contained in numpy and especially matplotlib closely mirror the functionality of Matlab. "
   ]
  },
  {
   "cell_type": "code",
   "execution_count": 4,
   "metadata": {},
   "outputs": [
    {
     "name": "stdout",
     "output_type": "stream",
     "text": [
      "-1.0\n",
      "1.4142135623730951\n"
     ]
    }
   ],
   "source": [
    "# Here is the numpy scientific library\n",
    "# It will live in the namespace 'np'\n",
    "import numpy as np\n",
    "\n",
    "# numpy contains basic mathematics (same as math):\n",
    "print(np.cos(np.pi))\n",
    "print(np.sqrt(2))"
   ]
  },
  {
   "cell_type": "markdown",
   "metadata": {},
   "source": [
    "### Arrays\n",
    "Arrays are one-dimensional or multidimensional collections of integers, doubles or booleans (and other numeric variable types). At first glance, they resemble lists. However:\n",
    "- Lists can contain truly anything, and collections of different types. Arrays only contain one type at a time.\n",
    "- Arrays can do mathematics, lists cannot.\n",
    "- For lists, one can arbitrarily append element, and remove elements from the middle. Arrays are of fixed length (usually).\n",
    "- Arrays are stored in a piece of continuous memory. Lists are stored as double-linked lists."
   ]
  },
  {
   "cell_type": "code",
   "execution_count": 5,
   "metadata": {},
   "outputs": [
    {
     "name": "stdout",
     "output_type": "stream",
     "text": [
      "[ 0  1  4  9 16 25]\n",
      "[1, 2, 3, 4, 5, 6]\n"
     ]
    }
   ],
   "source": [
    "# example array\n",
    "an_array = np.array([0,1,2,3,4,5])\n",
    "# example list\n",
    "a_list = [0,1,2,3,4,5]\n",
    "\n",
    "# What my array can do, but not my list:\n",
    "arr2 = an_array*an_array\n",
    "print(arr2)\n",
    "\n",
    "# What my list can do, but not my array:\n",
    "a_list.append(6)\n",
    "a_list.remove(0)\n",
    "print(a_list)"
   ]
  },
  {
   "cell_type": "markdown",
   "metadata": {},
   "source": [
    "### Using arrays: an introduction"
   ]
  },
  {
   "cell_type": "code",
   "execution_count": 7,
   "metadata": {},
   "outputs": [
    {
     "name": "stdout",
     "output_type": "stream",
     "text": [
      "[-2.         -1.95959596 -1.91919192 -1.87878788 -1.83838384 -1.7979798\n",
      " -1.75757576 -1.71717172 -1.67676768 -1.63636364 -1.5959596  -1.55555556\n",
      " -1.51515152 -1.47474747 -1.43434343 -1.39393939 -1.35353535 -1.31313131\n",
      " -1.27272727 -1.23232323 -1.19191919 -1.15151515 -1.11111111 -1.07070707\n",
      " -1.03030303 -0.98989899 -0.94949495 -0.90909091 -0.86868687 -0.82828283\n",
      " -0.78787879 -0.74747475 -0.70707071 -0.66666667 -0.62626263 -0.58585859\n",
      " -0.54545455 -0.50505051 -0.46464646 -0.42424242 -0.38383838 -0.34343434\n",
      " -0.3030303  -0.26262626 -0.22222222 -0.18181818 -0.14141414 -0.1010101\n",
      " -0.06060606 -0.02020202  0.02020202  0.06060606  0.1010101   0.14141414\n",
      "  0.18181818  0.22222222  0.26262626  0.3030303   0.34343434  0.38383838\n",
      "  0.42424242  0.46464646  0.50505051  0.54545455  0.58585859  0.62626263\n",
      "  0.66666667  0.70707071  0.74747475  0.78787879  0.82828283  0.86868687\n",
      "  0.90909091  0.94949495  0.98989899  1.03030303  1.07070707  1.11111111\n",
      "  1.15151515  1.19191919  1.23232323  1.27272727  1.31313131  1.35353535\n",
      "  1.39393939  1.43434343  1.47474747  1.51515152  1.55555556  1.5959596\n",
      "  1.63636364  1.67676768  1.71717172  1.75757576  1.7979798   1.83838384\n",
      "  1.87878788  1.91919192  1.95959596  2.        ]\n",
      "[1 2 3 4 5]\n",
      "[[0. 0. 0.]\n",
      " [0. 0. 0.]\n",
      " [0. 0. 0.]]\n"
     ]
    }
   ],
   "source": [
    "# Numpy provides array manipulation facilities equivalent to Matlab.\n",
    "\n",
    "# For example:\n",
    "# create arrays:\n",
    "xval0=np.linspace(-2,2,100)\n",
    "print(xval0)\n",
    "\n",
    "# create an array by transforming a python list into an array\n",
    "xval1=np.array([1,2,3,4,5])\n",
    "print(xval1)\n",
    "\n",
    "# create an 3x3 matrix with zeros inside\n",
    "# The (3,3) in the argument is called a tuple\n",
    "mat1=np.zeros((3,3))\n",
    "print(mat1)"
   ]
  },
  {
   "cell_type": "code",
   "execution_count": 8,
   "metadata": {},
   "outputs": [
    {
     "name": "stdout",
     "output_type": "stream",
     "text": [
      "(3, 3)\n",
      "(100,)\n",
      "100\n",
      "[[ 1.  0.  0.]\n",
      " [ 0.  0. -1.]\n",
      " [ 0.  1.  0.]]\n"
     ]
    }
   ],
   "source": [
    "# The shape of an array\n",
    "print(np.shape(mat1))\n",
    "print(np.shape(xval0))\n",
    "print(len(xval0))\n",
    "\n",
    "# You can access and modify elements by index\n",
    "# Carful, as for lists, indices run between 0 and length-1!\n",
    "mat1[0,0]=1\n",
    "mat1[1,2]=-1\n",
    "mat1[2,1]=1\n",
    "print(mat1)"
   ]
  },
  {
   "cell_type": "code",
   "execution_count": 11,
   "metadata": {},
   "outputs": [
    {
     "name": "stdout",
     "output_type": "stream",
     "text": [
      "[-1.91919192]\n",
      "[[1. 0.]\n",
      " [0. 0.]]\n",
      "[1. 0. 0.]\n",
      "[0. 0. 1.]\n"
     ]
    }
   ],
   "source": [
    "# Numpy slicing is very powerful.\n",
    "# It works the same way as with lists\n",
    "\n",
    "xvalbit=xval0[2:4:80]\n",
    "print(xvalbit)\n",
    "\n",
    "littlemat=mat1[0:2,0:2]\n",
    "print(littlemat)\n",
    "\n",
    "column1=mat1[:,0]\n",
    "print(column1)\n",
    "\n",
    "column2=mat1[:,1]\n",
    "print(column2)"
   ]
  },
  {
   "cell_type": "code",
   "execution_count": 12,
   "metadata": {},
   "outputs": [
    {
     "name": "stdout",
     "output_type": "stream",
     "text": [
      "[-0.90929743 -0.92536476 -0.93992165 -0.95294434 -0.96441158 -0.97430464\n",
      " -0.98260737 -0.98930624 -0.99439029 -0.99785123 -0.99968342 -0.99988386\n",
      " -0.99845223 -0.99539085 -0.99070474 -0.98440153 -0.97649152 -0.96698762\n",
      " -0.95590534 -0.94326277 -0.92908054 -0.91338181 -0.8961922  -0.87753977\n",
      " -0.85745496 -0.83597055 -0.81312162 -0.78894546 -0.76348154 -0.73677141\n",
      " -0.70885867 -0.67978889 -0.64960951 -0.6183698  -0.58612075 -0.55291499\n",
      " -0.51880673 -0.48385164 -0.44810678 -0.41163048 -0.3744823  -0.33672286\n",
      " -0.2984138  -0.25961766 -0.22039774 -0.18081808 -0.14094328 -0.10083842\n",
      " -0.06056897 -0.02020065  0.02020065  0.06056897  0.10083842  0.14094328\n",
      "  0.18081808  0.22039774  0.25961766  0.2984138   0.33672286  0.3744823\n",
      "  0.41163048  0.44810678  0.48385164  0.51880673  0.55291499  0.58612075\n",
      "  0.6183698   0.64960951  0.67978889  0.70885867  0.73677141  0.76348154\n",
      "  0.78894546  0.81312162  0.83597055  0.85745496  0.87753977  0.8961922\n",
      "  0.91338181  0.92908054  0.94326277  0.95590534  0.96698762  0.97649152\n",
      "  0.98440153  0.99070474  0.99539085  0.99845223  0.99988386  0.99968342\n",
      "  0.99785123  0.99439029  0.98930624  0.98260737  0.97430464  0.96441158\n",
      "  0.95294434  0.93992165  0.92536476  0.90929743]\n",
      "[1.         1.41421356 1.73205081 2.         2.23606798]\n",
      "[[1. 0. 0.]\n",
      " [0. 0. 1.]\n",
      " [0. 1. 0.]]\n"
     ]
    }
   ],
   "source": [
    "# Functions apply directly to an array:\n",
    "\n",
    "sinex=np.sin(xval0)\n",
    "print(sinex)\n",
    "\n",
    "xval2=np.sqrt(xval1)\n",
    "print(xval2)\n",
    "\n",
    "# element-wise multiplication\n",
    "# not (yet) matrix multiplication\n",
    "mat2=mat1*mat1\n",
    "print(mat2)"
   ]
  },
  {
   "cell_type": "markdown",
   "metadata": {},
   "source": [
    "## Matplotlib: A first example\n",
    "The `matplotlib.pyplot` library contains tools to make standard line plots. "
   ]
  },
  {
   "cell_type": "code",
   "execution_count": 14,
   "metadata": {},
   "outputs": [
    {
     "data": {
      "text/plain": [
       "<matplotlib.legend.Legend at 0x1c765dfbec8>"
      ]
     },
     "execution_count": 14,
     "metadata": {},
     "output_type": "execute_result"
    },
    {
     "data": {
      "image/png": "[encoded data removed]",
      "text/plain": [
       "<Figure size 432x288 with 1 Axes>"
      ]
     },
     "metadata": {
      "needs_background": "light"
     },
     "output_type": "display_data"
    }
   ],
   "source": [
    "# we import the matplotlib.pyplot library into the plt namespace\n",
    "import matplotlib.pyplot as plt\n",
    "\n",
    "# 300 points between 0 and 4 pi, for the x values\n",
    "xval = np.linspace(0,4*np.pi,300)\n",
    "\n",
    "# some simple functions for the y values\n",
    "yval0 = np.cos(xval)\n",
    "yval1 = 0.5*np.sin(2*xval)\n",
    "yval2 = np.cos(xval) + 0.5*np.sin(2*xval)\n",
    "\n",
    "# creating a new figure\n",
    "plt.figure()\n",
    "\n",
    "# plot. Note linestyle ('-'), color and label arguments\n",
    "plt.plot(xval,yval0,'-',color='k',label='cos')\n",
    "plt.plot(xval,yval1,'.-',color='r',label='sin')\n",
    "plt.plot(xval,yval2,'.-',color='g',label='superposition')\n",
    "\n",
    "# include a legend\n",
    "plt.legend()\n",
    "\n",
    "# NOTE: For some reason, this needs to be exectued **twice** to show up in the jupyter notebook"
   ]
  },
  {
   "cell_type": "markdown",
   "metadata": {},
   "source": [
    "# Random numbers\n",
    "\n",
    "Numpy contains a much more powerful random number library than `random`. "
   ]
  },
  {
   "cell_type": "code",
   "execution_count": 15,
   "metadata": {},
   "outputs": [
    {
     "name": "stdout",
     "output_type": "stream",
     "text": [
      "[0.48425416 0.9328902  0.43025235 0.64607927 0.22709708 0.70939862\n",
      " 0.34823126 0.69596345 0.76322101 0.63118292]\n",
      "[-1.31158345 -1.09455181 -2.34119104 -0.94264915  1.9747942  -0.29820931\n",
      " -1.00806371  1.23994802  0.05838158 -0.03696517]\n",
      "[[ 0.4516759  -0.03446983  1.94747042]\n",
      " [-0.58247716  0.28346834 -0.45652512]\n",
      " [-0.99210913 -0.13505163  1.04655031]]\n",
      "[35 68 79 64  1 71 32  9  7 34]\n",
      "[5 7 3 2 0 8 9 4 6 1]\n"
     ]
    }
   ],
   "source": [
    "# numpy random number generation library\n",
    "# imported here into the namespace rd\n",
    "import numpy.random as rd\n",
    "\n",
    "## basic random numbers:\n",
    "\n",
    "# 10 uniform random numbers between 0 and 1:\n",
    "u = rd.rand(10,)\n",
    "print(u)\n",
    "\n",
    "# 10 normally distributed random numbers:\n",
    "v = rd.randn(10,)\n",
    "print(v)\n",
    "\n",
    "# a 3x3 matrix of normally distributed random numbers:\n",
    "w = rd.randn(3,3)\n",
    "print(w)\n",
    "\n",
    "# 10 integer random number between 0 and 100\n",
    "x = rd.randint(0,100,10)\n",
    "print(x)\n",
    "\n",
    "# random permutations of integers\n",
    "y = rd.permutation(10)\n",
    "print(y)"
   ]
  },
  {
   "cell_type": "markdown",
   "metadata": {},
   "source": [
    "### Example: A histogram of the normal distribution\n",
    "The normal distribution of mean $\\mu$ and standard deviation $\\sigma$ is given by\n",
    "\\begin{equation} f(x) = \\frac{1}{\\sigma \\sqrt{2\\pi}} e^{-(x-\\mu)^2/2\\sigma^2}. \\end{equation}\n",
    "We will show that `rd.randn()` generates a normal distribution with $\\mu=0$ and $\\sigma=1$.\n",
    "\n",
    "We will also introduce histograms and bar graphs."
   ]
  },
  {
   "cell_type": "code",
   "execution_count": 16,
   "metadata": {},
   "outputs": [
    {
     "data": {
      "text/plain": [
       "Text(0.5, 1.0, 'Normally distributed random numbers')"
      ]
     },
     "execution_count": 16,
     "metadata": {},
     "output_type": "execute_result"
    },
    {
     "data": {
      "image/png": "[encoded data removed]",
      "text/plain": [
       "<Figure size 432x288 with 1 Axes>"
      ]
     },
     "metadata": {
      "needs_background": "light"
     },
     "output_type": "display_data"
    }
   ],
   "source": [
    "# The normal distribution as a function\n",
    "def normdist(x,mu,sigma):\n",
    "    return 1.0/(sigma*np.sqrt(2*np.pi))*np.exp(-(x-mu)**2/(2*sigma**2))\n",
    "\n",
    "# Let's generate 10000 normally distributed random numbers:\n",
    "N = 10000\n",
    "randvals = rd.randn(N,)\n",
    "\n",
    "# Simple histogram generation and plotting\n",
    "plt.figure()\n",
    "\n",
    "# hist function:\n",
    "# takes in: array to be histogrammed, numbers of bins,\n",
    "# and whether to normalise to a probability density (yes)\n",
    "n,bins,patches = plt.hist(randvals, 50, density=True)\n",
    "# bar plot of the histogram\n",
    "plt.setp(patches,'facecolor','g')\n",
    "\n",
    "# also add the normal distribution iteslf\n",
    "xvals = np.linspace(-4,4,200)\n",
    "\n",
    "# call the function to compute the N(0,1) line\n",
    "# note how I just passed an array to the function!\n",
    "yvals = normdist(xvals,0,1)\n",
    "\n",
    "# add the line to the plot\n",
    "plt.plot(xvals,yvals,'-r')\n",
    "\n",
    "# labeling and titling\n",
    "plt.xlabel('x')\n",
    "plt.ylabel('P(x)')\n",
    "plt.title('Normally distributed random numbers')\n",
    "\n"
   ]
  }
 ],
 "metadata": {
  "kernelspec": {
   "display_name": "Python 3",
   "language": "python",
   "name": "python3"
  },
  "language_info": {
   "codemirror_mode": {
    "name": "ipython",
    "version": 3
   },
   "file_extension": ".py",
   "mimetype": "text/x-python",
   "name": "python",
   "nbconvert_exporter": "python",
   "pygments_lexer": "ipython3",
   "version": "3.7.4"
  }
 },
 "nbformat": 4,
 "nbformat_minor": 2
}
